{
 "cells": [
  {
   "cell_type": "code",
   "execution_count": 99,
   "metadata": {
    "tags": [
     "Source tables"
    ]
   },
   "outputs": [],
   "source": [
    "item_table = [\n",
    " { \"valid_from\": \"2020-01-01\", \"valid_to\": \"2020-12-31\", \"isactive\": 0, \"item_code\": 324, \"item_name\": \"Chair\", \"unit_price($)\": 15 },\n",
    " { \"valid_from\": \"2021-01-01\", \"valid_to\": \"2021-12-31\", \"isactive\": 0, \"item_code\": 324, \"item_name\": \"Chair\", \"unit_price($)\": 30},\n",
    " { \"valid_from\": \"2022-01-01\", \"valid_to\": \"2022-12-31\", \"isactive\": 0, \"item_code\": 324, \"item_name\": \"Chair\", \"unit_price($)\": 40},\n",
    " { \"valid_from\": \"2023-01-01\", \"valid_to\": None, \"isactive\": 1, \"item_code\": 324, \"item_name\": \"Chair\", \"unit_price($)\": 45},\n",
    " { \"valid_from\": \"2020-01-01\", \"valid_to\": \"2020-12-31\", \"isactive\": 0, \"item_code\": 325, \"item_name\": \"Table\", \"unit_price($)\": 50},\n",
    " { \"valid_from\": \"2021-01-01\", \"valid_to\": \"2021-12-31\", \"isactive\": 0, \"item_code\": 325, \"item_name\": \"Table\", \"unit_price($)\": 60},\n",
    " { \"valid_from\": \"2022-01-01\", \"valid_to\": \"2022-12-31\", \"isactive\": 0, \"item_code\": 325, \"item_name\": \"Table\", \"unit_price($)\": 70},\n",
    " { \"valid_from\": \"2023-01-01\", \"valid_to\": None, \"isactive\": 1, \"item_code\": 325, \"item_name\": \"Table\", \"unit_price($)\": 80}\n",
    "]\n",
    "\n",
    "discount_table =  [\n",
    " {\"valid_from\": \"2020-01-01\", \"valid_to\": \"2020-05-31\", \"discount_id\": 10, \"item_code\": 324, \"discount_percentage\": 5},\n",
    " { \"valid_from\": \"2021-03-01\", \"valid_to\": \"2021-07-31\", \"discount_id\": 10, \"item_code\": 324, \"discount_percentage\": 10},\n",
    " { \"valid_from\": \"2023-01-02\", \"valid_to\": None, \"discount_id\": 10, \"item_code\": 324, \"discount_percentage\": 7},\n",
    " { \"valid_from\": \"2020-04-01\", \"valid_to\": \"2020-08-31\", \"discount_id\": 11, \"item_code\": 325, \"discount_percentage\": 2},\n",
    " { \"valid_from\": \"2021-10-01\", \"valid_to\": \"2021-12-31\", \"discount_id\": 10, \"item_code\": 325, \"discount_percentage\": 6},\n",
    " { \"valid_from\": \"2022-06-01\", \"valid_to\": \"2022-08-31\", \"discount_id\": 11, \"item_code\": 325, \"discount_percentage\": 8},\n",
    " { \"valid_from\": \"2023-01-01\", \"valid_to\": None, \"discount_id\": 11, \"item_code\": 325, \"discount_percentage\": 3}\n",
    "]\n",
    "\n",
    "desire_output_schema = [\"valid_from\", \"valid_to\", \"item_code\", \"discount_id\", \"item_name\", \"unit_price($)\", \"discount_percentage\"]"
   ]
  },
  {
   "cell_type": "code",
   "execution_count": 100,
   "metadata": {},
   "outputs": [],
   "source": [
    "import findspark\n",
    "findspark.init()\n",
    "from pyspark.sql.functions import col, cast, to_date, lead, lit, coalesce, asc_nulls_last, when, udf\n",
    "from pyspark.sql.types import DateType, DoubleType, DecimalType\n",
    "from pyspark.sql import SparkSession, Row\n",
    "from pyspark.sql.window import Window\n",
    "from datetime import datetime"
   ]
  },
  {
   "cell_type": "code",
   "execution_count": 101,
   "metadata": {
    "tags": [
     "Read source tables"
    ]
   },
   "outputs": [
    {
     "name": "stdout",
     "output_type": "stream",
     "text": [
      "Item table: \n",
      "root\n",
      " |-- isactive: long (nullable = true)\n",
      " |-- item_code: long (nullable = true)\n",
      " |-- item_name: string (nullable = true)\n",
      " |-- unit_price($): long (nullable = true)\n",
      " |-- valid_from: date (nullable = true)\n",
      " |-- valid_to: date (nullable = true)\n",
      "\n",
      "+--------+---------+---------+-------------+----------+----------+\n",
      "|isactive|item_code|item_name|unit_price($)|valid_from|  valid_to|\n",
      "+--------+---------+---------+-------------+----------+----------+\n",
      "|       0|      324|    Chair|           15|2020-01-01|2020-12-31|\n",
      "|       0|      324|    Chair|           30|2021-01-01|2021-12-31|\n",
      "|       0|      324|    Chair|           40|2022-01-01|2022-12-31|\n",
      "|       1|      324|    Chair|           45|2023-01-01|      null|\n",
      "|       0|      325|    Table|           50|2020-01-01|2020-12-31|\n",
      "|       0|      325|    Table|           60|2021-01-01|2021-12-31|\n",
      "|       0|      325|    Table|           70|2022-01-01|2022-12-31|\n",
      "|       1|      325|    Table|           80|2023-01-01|      null|\n",
      "+--------+---------+---------+-------------+----------+----------+\n",
      "\n",
      "Discount table: \n",
      "root\n",
      " |-- discount_id: long (nullable = true)\n",
      " |-- discount_percentage: long (nullable = true)\n",
      " |-- item_code: long (nullable = true)\n",
      " |-- valid_from: date (nullable = true)\n",
      " |-- valid_to: date (nullable = true)\n",
      "\n",
      "+-----------+-------------------+---------+----------+----------+\n",
      "|discount_id|discount_percentage|item_code|valid_from|  valid_to|\n",
      "+-----------+-------------------+---------+----------+----------+\n",
      "|         10|                  5|      324|2020-01-01|2020-05-31|\n",
      "|         10|                 10|      324|2021-03-01|2021-07-31|\n",
      "|         10|                  7|      324|2023-01-02|      null|\n",
      "|         11|                  2|      325|2020-04-01|2020-08-31|\n",
      "|         10|                  6|      325|2021-10-01|2021-12-31|\n",
      "|         11|                  8|      325|2022-06-01|2022-08-31|\n",
      "|         11|                  3|      325|2023-01-01|      null|\n",
      "+-----------+-------------------+---------+----------+----------+\n",
      "\n"
     ]
    }
   ],
   "source": [
    "\n",
    "spark = SparkSession.builder \\\n",
    "    .appName(\"SCD2 Joins\") \\\n",
    "    .config(\"spark.sql.debug.maxToStringFields\", \"100\")\\\n",
    "    .getOrCreate()\n",
    "\n",
    "item_df = spark.createDataFrame(item_table) \\\n",
    "                .withColumn(\"valid_from\", to_date(col(\"valid_from\"),\"yyyy-MM-dd\")) \\\n",
    "                .withColumn(\"valid_to\", to_date(col(\"valid_to\"),\"yyyy-MM-dd\"))\n",
    "discount_df = spark.createDataFrame(discount_table) \\\n",
    "                .withColumn(\"valid_from\", to_date(col(\"valid_from\"),\"yyyy-MM-dd\")) \\\n",
    "                .withColumn(\"valid_to\", to_date(col(\"valid_to\"),\"yyyy-MM-dd\"))\n",
    "\n",
    "print(\"Item table: \")\n",
    "item_df.printSchema()\n",
    "item_df.show()\n",
    "print(\"Discount table: \")\n",
    "discount_df.printSchema()\n",
    "discount_df.show()"
   ]
  },
  {
   "cell_type": "code",
   "execution_count": 102,
   "metadata": {
    "tags": [
     "Distinct Dates"
    ]
   },
   "outputs": [
    {
     "name": "stdout",
     "output_type": "stream",
     "text": [
      "Distinct dates count: 25\n",
      "+----------+---------+\n",
      "|      date|item_code|\n",
      "+----------+---------+\n",
      "|      null|      324|\n",
      "|2020-01-01|      324|\n",
      "|2020-05-31|      324|\n",
      "|2020-12-31|      324|\n",
      "|2021-01-01|      324|\n",
      "|2021-03-01|      324|\n",
      "|2021-07-31|      324|\n",
      "|2021-12-31|      324|\n",
      "|2022-01-01|      324|\n",
      "|2022-12-31|      324|\n",
      "|2023-01-01|      324|\n",
      "|2023-01-02|      324|\n",
      "|      null|      325|\n",
      "|2020-01-01|      325|\n",
      "|2020-04-01|      325|\n",
      "|2020-08-31|      325|\n",
      "|2020-12-31|      325|\n",
      "|2021-01-01|      325|\n",
      "|2021-10-01|      325|\n",
      "|2021-12-31|      325|\n",
      "|2022-01-01|      325|\n",
      "|2022-06-01|      325|\n",
      "|2022-08-31|      325|\n",
      "|2022-12-31|      325|\n",
      "|2023-01-01|      325|\n",
      "+----------+---------+\n",
      "\n"
     ]
    }
   ],
   "source": [
    "item_from_dates = item_df.select(col(\"valid_from\").alias(\"date\"), \"item_code\")\n",
    "item_to_dates = item_df.select(\"valid_to\", \"item_code\")\n",
    "\n",
    "discount_from_dates = discount_df.select(\"valid_from\", \"item_code\")\n",
    "discount_to_dates = discount_df.select(\"valid_to\", \"item_code\")\n",
    "\n",
    "distinct_dates = item_from_dates \\\n",
    "                    .union(item_to_dates) \\\n",
    "                    .union(discount_from_dates) \\\n",
    "                    .union(discount_to_dates) \\\n",
    "                    .dropDuplicates() \\\n",
    "                    .orderBy(\"item_code\", \"date\")\n",
    "print(f\"Distinct dates count: {distinct_dates.count()}\")\n",
    "distinct_dates.show(50)"
   ]
  },
  {
   "cell_type": "code",
   "execution_count": 103,
   "metadata": {
    "tags": [
     "Calculate Final Date Range"
    ]
   },
   "outputs": [
    {
     "name": "stdout",
     "output_type": "stream",
     "text": [
      "Total Rows 23\n",
      "+----------+----------+---------+\n",
      "|valid_from|  valid_to|item_code|\n",
      "+----------+----------+---------+\n",
      "|2020-01-01|2020-05-31|      324|\n",
      "|2020-05-31|2020-12-31|      324|\n",
      "|2020-12-31|2021-01-01|      324|\n",
      "|2021-01-01|2021-03-01|      324|\n",
      "|2021-03-01|2021-07-31|      324|\n",
      "|2021-07-31|2021-12-31|      324|\n",
      "|2021-12-31|2022-01-01|      324|\n",
      "|2022-01-01|2022-12-31|      324|\n",
      "|2022-12-31|2023-01-01|      324|\n",
      "|2023-01-01|2023-01-02|      324|\n",
      "|2023-01-02|      null|      324|\n",
      "|2020-01-01|2020-04-01|      325|\n",
      "|2020-04-01|2020-08-31|      325|\n",
      "|2020-08-31|2020-12-31|      325|\n",
      "|2020-12-31|2021-01-01|      325|\n",
      "|2021-01-01|2021-10-01|      325|\n",
      "|2021-10-01|2021-12-31|      325|\n",
      "|2021-12-31|2022-01-01|      325|\n",
      "|2022-01-01|2022-06-01|      325|\n",
      "|2022-06-01|2022-08-31|      325|\n",
      "|2022-08-31|2022-12-31|      325|\n",
      "|2022-12-31|2023-01-01|      325|\n",
      "|2023-01-01|      null|      325|\n",
      "+----------+----------+---------+\n",
      "\n"
     ]
    }
   ],
   "source": [
    "partition = Window.partitionBy(\"item_code\").orderBy(asc_nulls_last(\"date\"))\n",
    "date_range = distinct_dates \\\n",
    "                .select(col(\"date\").alias(\"valid_from\"), lead(\"date\", 1).over(partition).alias(\"valid_to\"), \"item_code\") \\\n",
    "                .filter(col(\"valid_from\").isNotNull()) \\\n",
    "\n",
    "print(\"Total Rows\", date_range.count())\n",
    "date_range.show(50)\n"
   ]
  },
  {
   "cell_type": "code",
   "execution_count": 104,
   "metadata": {
    "tags": [
     "Adding Maximum Date to Null valid_to"
    ]
   },
   "outputs": [
    {
     "name": "stdout",
     "output_type": "stream",
     "text": [
      "+----------+----------+---------+\n",
      "|valid_from|  valid_to|item_code|\n",
      "+----------+----------+---------+\n",
      "|2020-01-01|2020-05-31|      324|\n",
      "|2020-05-31|2020-12-31|      324|\n",
      "|2020-12-31|2021-01-01|      324|\n",
      "|2021-01-01|2021-03-01|      324|\n",
      "|2021-03-01|2021-07-31|      324|\n",
      "|2021-07-31|2021-12-31|      324|\n",
      "|2021-12-31|2022-01-01|      324|\n",
      "|2022-01-01|2022-12-31|      324|\n",
      "|2022-12-31|2023-01-01|      324|\n",
      "|2023-01-01|2023-01-02|      324|\n",
      "|2023-01-02|9999-12-31|      324|\n",
      "|2020-01-01|2020-04-01|      325|\n",
      "|2020-04-01|2020-08-31|      325|\n",
      "|2020-08-31|2020-12-31|      325|\n",
      "|2020-12-31|2021-01-01|      325|\n",
      "|2021-01-01|2021-10-01|      325|\n",
      "|2021-10-01|2021-12-31|      325|\n",
      "|2021-12-31|2022-01-01|      325|\n",
      "|2022-01-01|2022-06-01|      325|\n",
      "|2022-06-01|2022-08-31|      325|\n",
      "|2022-08-31|2022-12-31|      325|\n",
      "|2022-12-31|2023-01-01|      325|\n",
      "|2023-01-01|9999-12-31|      325|\n",
      "+----------+----------+---------+\n",
      "\n"
     ]
    }
   ],
   "source": [
    "item_df = item_df.withColumn(\"valid_to\", coalesce(col(\"valid_to\"), to_date(lit(\"9999-12-31\"),\"yyyy-MM-dd\")))\n",
    "discount_df = discount_df.withColumn(\"valid_to\", coalesce(col(\"valid_to\"), to_date(lit(\"9999-12-31\"),\"yyyy-MM-dd\")))\n",
    "date_range = date_range.withColumn(\"valid_to\", coalesce(col(\"valid_to\"), to_date(lit(\"9999-12-31\"),\"yyyy-MM-dd\")))\n",
    "date_range.show(50)"
   ]
  },
  {
   "cell_type": "code",
   "execution_count": 105,
   "metadata": {},
   "outputs": [
    {
     "name": "stdout",
     "output_type": "stream",
     "text": [
      "count of compiled data 23\n",
      "+----------+----------+---------+-----------+---------+-------------+-------------------+---------+\n",
      "|valid_from|  valid_to|item_code|discount_id|item_name|unit_price($)|discount_percentage|is_active|\n",
      "+----------+----------+---------+-----------+---------+-------------+-------------------+---------+\n",
      "|2020-01-01|2020-05-31|      324|         10|    Chair|           15|                  5|        0|\n",
      "|2020-05-31|2020-12-31|      324|       null|    Chair|           15|               null|        0|\n",
      "|2020-12-31|2021-01-01|      324|       null|    Chair|           30|               null|        0|\n",
      "|2021-01-01|2021-03-01|      324|         10|    Chair|           30|                 10|        0|\n",
      "|2021-03-01|2021-07-31|      324|         10|    Chair|           30|                 10|        0|\n",
      "|2021-07-31|2021-12-31|      324|       null|    Chair|           30|               null|        0|\n",
      "|2021-12-31|2022-01-01|      324|       null|    Chair|           40|               null|        0|\n",
      "|2022-01-01|2022-12-31|      324|       null|    Chair|           40|               null|        0|\n",
      "|2022-12-31|2023-01-01|      324|       null|    Chair|           45|               null|        0|\n",
      "|2023-01-01|2023-01-02|      324|         10|    Chair|           45|                  7|        0|\n",
      "|2023-01-02|9999-12-31|      324|         10|    Chair|           45|                  7|        1|\n",
      "|2020-01-01|2020-04-01|      325|         11|    Table|           50|                  2|        0|\n",
      "|2020-04-01|2020-08-31|      325|         11|    Table|           50|                  2|        0|\n",
      "|2020-08-31|2020-12-31|      325|       null|    Table|           50|               null|        0|\n",
      "|2020-12-31|2021-01-01|      325|       null|    Table|           60|               null|        0|\n",
      "|2021-01-01|2021-10-01|      325|         10|    Table|           60|                  6|        0|\n",
      "|2021-10-01|2021-12-31|      325|         10|    Table|           60|                  6|        0|\n",
      "|2021-12-31|2022-01-01|      325|       null|    Table|           70|               null|        0|\n",
      "|2022-01-01|2022-06-01|      325|         11|    Table|           70|                  8|        0|\n",
      "|2022-06-01|2022-08-31|      325|         11|    Table|           70|                  8|        0|\n",
      "|2022-08-31|2022-12-31|      325|       null|    Table|           70|               null|        0|\n",
      "|2022-12-31|2023-01-01|      325|         11|    Table|           80|                  3|        0|\n",
      "|2023-01-01|9999-12-31|      325|         11|    Table|           80|                  3|        1|\n",
      "+----------+----------+---------+-----------+---------+-------------+-------------------+---------+\n",
      "\n"
     ]
    }
   ],
   "source": [
    "compiled_data = date_range.join(item_df, \n",
    "                (item_df[\"item_code\"] == date_range[\"item_code\"]) & \n",
    "                (item_df[\"valid_from\"] <= date_range[\"valid_to\"]) & \n",
    "                (item_df[\"valid_to\"] > date_range[\"valid_from\"]), \n",
    "                \"LEFT\") \\\n",
    "            .join(discount_df, \n",
    "                (discount_df[\"item_code\"] == date_range[\"item_code\"])\n",
    "                & (discount_df[\"valid_from\"] <= date_range[\"valid_to\"])\n",
    "                & (discount_df[\"valid_to\"] > date_range[\"valid_from\"]), \n",
    "                \"LEFT\") \\\n",
    "            .select(date_range[\"valid_from\"], date_range[\"valid_to\"], date_range[\"item_code\"], \"discount_id\", \"item_name\", \"unit_price($)\", \"discount_percentage\") \\\n",
    "            .withColumn(\"is_active\", when(col(\"valid_to\") > datetime.now(),1).otherwise(0)) \n",
    "            # \\\n",
    "            # .withColumn(\"price_after_discount($)\", calculate_price(col(\"unit_price($)\"), col(\"discount_percentage\")))\n",
    "\n",
    "print(\"count of compiled data\", compiled_data.count())\n",
    "\n",
    "compiled_data.show(50)"
   ]
  },
  {
   "cell_type": "code",
   "execution_count": 114,
   "metadata": {},
   "outputs": [
    {
     "name": "stdout",
     "output_type": "stream",
     "text": [
      "+----------+----------+---------+-----------+---------+-------------+-------------------+---------+-----------------------+\n",
      "|valid_from|  valid_to|item_code|discount_id|item_name|unit_price($)|discount_percentage|is_active|price_after_discount($)|\n",
      "+----------+----------+---------+-----------+---------+-------------+-------------------+---------+-----------------------+\n",
      "|2020-01-01|2020-05-31|      324|         10|    Chair|           15|                  5|        0|                     14|\n",
      "|2020-05-31|2020-12-31|      324|       null|    Chair|           15|               null|        0|                     15|\n",
      "|2020-12-31|2021-01-01|      324|       null|    Chair|           30|               null|        0|                     30|\n",
      "|2021-01-01|2021-03-01|      324|         10|    Chair|           30|                 10|        0|                     27|\n",
      "|2021-03-01|2021-07-31|      324|         10|    Chair|           30|                 10|        0|                     27|\n",
      "|2021-07-31|2021-12-31|      324|       null|    Chair|           30|               null|        0|                     30|\n",
      "|2021-12-31|2022-01-01|      324|       null|    Chair|           40|               null|        0|                     40|\n",
      "|2022-01-01|2022-12-31|      324|       null|    Chair|           40|               null|        0|                     40|\n",
      "|2022-12-31|2023-01-01|      324|       null|    Chair|           45|               null|        0|                     45|\n",
      "|2023-01-01|2023-01-02|      324|         10|    Chair|           45|                  7|        0|                     42|\n",
      "|2023-01-02|9999-12-31|      324|         10|    Chair|           45|                  7|        1|                     42|\n",
      "|2020-01-01|2020-04-01|      325|         11|    Table|           50|                  2|        0|                     49|\n",
      "|2020-04-01|2020-08-31|      325|         11|    Table|           50|                  2|        0|                     49|\n",
      "|2020-08-31|2020-12-31|      325|       null|    Table|           50|               null|        0|                     50|\n",
      "|2020-12-31|2021-01-01|      325|       null|    Table|           60|               null|        0|                     60|\n",
      "|2021-01-01|2021-10-01|      325|         10|    Table|           60|                  6|        0|                     56|\n",
      "|2021-10-01|2021-12-31|      325|         10|    Table|           60|                  6|        0|                     56|\n",
      "|2021-12-31|2022-01-01|      325|       null|    Table|           70|               null|        0|                     70|\n",
      "|2022-01-01|2022-06-01|      325|         11|    Table|           70|                  8|        0|                     64|\n",
      "|2022-06-01|2022-08-31|      325|         11|    Table|           70|                  8|        0|                     64|\n",
      "|2022-08-31|2022-12-31|      325|       null|    Table|           70|               null|        0|                     70|\n",
      "|2022-12-31|2023-01-01|      325|         11|    Table|           80|                  3|        0|                     78|\n",
      "|2023-01-01|9999-12-31|      325|         11|    Table|           80|                  3|        1|                     78|\n",
      "+----------+----------+---------+-----------+---------+-------------+-------------------+---------+-----------------------+\n",
      "\n"
     ]
    }
   ],
   "source": [
    "from decimal import Decimal\n",
    "\n",
    "calculate_price = udf(lambda price, discount_percentage : Decimal(price - ((discount_percentage/Decimal(100.0))*price)) if discount_percentage is not None else Decimal(price), DecimalType())\n",
    "\n",
    "compiled_data = compiled_data.withColumn(\"price_after_discount($)\", calculate_price(col(\"unit_price($)\").cast(DecimalType()), col(\"discount_percentage\").cast(DecimalType())))\n",
    "\n",
    "compiled_data.show(50)"
   ]
  }
 ],
 "metadata": {
  "kernelspec": {
   "display_name": "Python 3",
   "language": "python",
   "name": "python3"
  },
  "language_info": {
   "codemirror_mode": {
    "name": "ipython",
    "version": 3
   },
   "file_extension": ".py",
   "mimetype": "text/x-python",
   "name": "python",
   "nbconvert_exporter": "python",
   "pygments_lexer": "ipython3",
   "version": "3.11.4"
  },
  "orig_nbformat": 4
 },
 "nbformat": 4,
 "nbformat_minor": 2
}
